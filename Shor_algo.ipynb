{
  "nbformat": 4,
  "nbformat_minor": 0,
  "metadata": {
    "colab": {
      "provenance": []
    },
    "kernelspec": {
      "name": "python3",
      "display_name": "Python 3"
    },
    "language_info": {
      "name": "python"
    }
  },
  "cells": [
    {
      "cell_type": "code",
      "execution_count": 5,
      "metadata": {
        "colab": {
          "base_uri": "https://localhost:8080/"
        },
        "id": "Pqr3_1u4td9q",
        "outputId": "95677e29-1249-4fca-a3bd-15358db6f2a0"
      },
      "outputs": [
        {
          "output_type": "stream",
          "name": "stdout",
          "text": [
            "Requirement already satisfied: qiskit in /usr/local/lib/python3.10/dist-packages (1.3.1)\n",
            "Requirement already satisfied: rustworkx>=0.15.0 in /usr/local/lib/python3.10/dist-packages (from qiskit) (0.15.1)\n",
            "Requirement already satisfied: numpy<3,>=1.17 in /usr/local/lib/python3.10/dist-packages (from qiskit) (1.26.4)\n",
            "Requirement already satisfied: scipy>=1.5 in /usr/local/lib/python3.10/dist-packages (from qiskit) (1.13.1)\n",
            "Requirement already satisfied: sympy>=1.3 in /usr/local/lib/python3.10/dist-packages (from qiskit) (1.13.1)\n",
            "Requirement already satisfied: dill>=0.3 in /usr/local/lib/python3.10/dist-packages (from qiskit) (0.3.9)\n",
            "Requirement already satisfied: python-dateutil>=2.8.0 in /usr/local/lib/python3.10/dist-packages (from qiskit) (2.8.2)\n",
            "Requirement already satisfied: stevedore>=3.0.0 in /usr/local/lib/python3.10/dist-packages (from qiskit) (5.4.0)\n",
            "Requirement already satisfied: typing-extensions in /usr/local/lib/python3.10/dist-packages (from qiskit) (4.12.2)\n",
            "Requirement already satisfied: symengine<0.14,>=0.11 in /usr/local/lib/python3.10/dist-packages (from qiskit) (0.13.0)\n",
            "Requirement already satisfied: six>=1.5 in /usr/local/lib/python3.10/dist-packages (from python-dateutil>=2.8.0->qiskit) (1.17.0)\n",
            "Requirement already satisfied: pbr>=2.0.0 in /usr/local/lib/python3.10/dist-packages (from stevedore>=3.0.0->qiskit) (6.1.0)\n",
            "Requirement already satisfied: mpmath<1.4,>=1.1.0 in /usr/local/lib/python3.10/dist-packages (from sympy>=1.3->qiskit) (1.3.0)\n",
            "Requirement already satisfied: qiskit_aer in /usr/local/lib/python3.10/dist-packages (0.15.1)\n",
            "Requirement already satisfied: qiskit>=1.1.0 in /usr/local/lib/python3.10/dist-packages (from qiskit_aer) (1.3.1)\n",
            "Requirement already satisfied: numpy>=1.16.3 in /usr/local/lib/python3.10/dist-packages (from qiskit_aer) (1.26.4)\n",
            "Requirement already satisfied: scipy>=1.0 in /usr/local/lib/python3.10/dist-packages (from qiskit_aer) (1.13.1)\n",
            "Requirement already satisfied: psutil>=5 in /usr/local/lib/python3.10/dist-packages (from qiskit_aer) (5.9.5)\n",
            "Requirement already satisfied: rustworkx>=0.15.0 in /usr/local/lib/python3.10/dist-packages (from qiskit>=1.1.0->qiskit_aer) (0.15.1)\n",
            "Requirement already satisfied: sympy>=1.3 in /usr/local/lib/python3.10/dist-packages (from qiskit>=1.1.0->qiskit_aer) (1.13.1)\n",
            "Requirement already satisfied: dill>=0.3 in /usr/local/lib/python3.10/dist-packages (from qiskit>=1.1.0->qiskit_aer) (0.3.9)\n",
            "Requirement already satisfied: python-dateutil>=2.8.0 in /usr/local/lib/python3.10/dist-packages (from qiskit>=1.1.0->qiskit_aer) (2.8.2)\n",
            "Requirement already satisfied: stevedore>=3.0.0 in /usr/local/lib/python3.10/dist-packages (from qiskit>=1.1.0->qiskit_aer) (5.4.0)\n",
            "Requirement already satisfied: typing-extensions in /usr/local/lib/python3.10/dist-packages (from qiskit>=1.1.0->qiskit_aer) (4.12.2)\n",
            "Requirement already satisfied: symengine<0.14,>=0.11 in /usr/local/lib/python3.10/dist-packages (from qiskit>=1.1.0->qiskit_aer) (0.13.0)\n",
            "Requirement already satisfied: six>=1.5 in /usr/local/lib/python3.10/dist-packages (from python-dateutil>=2.8.0->qiskit>=1.1.0->qiskit_aer) (1.17.0)\n",
            "Requirement already satisfied: pbr>=2.0.0 in /usr/local/lib/python3.10/dist-packages (from stevedore>=3.0.0->qiskit>=1.1.0->qiskit_aer) (6.1.0)\n",
            "Requirement already satisfied: mpmath<1.4,>=1.1.0 in /usr/local/lib/python3.10/dist-packages (from sympy>=1.3->qiskit>=1.1.0->qiskit_aer) (1.3.0)\n"
          ]
        }
      ],
      "source": [
        "!pip install qiskit\n",
        "!pip install qiskit_aer"
      ]
    },
    {
      "cell_type": "code",
      "source": [
        "import matplotlib.pyplot as plt\n",
        "import numpy as np\n",
        "from qiskit import QuantumCircuit, transpile, assemble\n",
        "from qiskit_aer import AerSimulator\n",
        "from math import gcd\n",
        "from numpy.random import randint\n",
        "import pandas as pd\n",
        "from fractions import Fraction\n",
        "print(\"Imports Successful\")"
      ],
      "metadata": {
        "colab": {
          "base_uri": "https://localhost:8080/"
        },
        "id": "HdLM2Ot5tmLc",
        "outputId": "4f3fdcc0-3d0c-46e7-cd6a-ce7c1c4c86cb"
      },
      "execution_count": 6,
      "outputs": [
        {
          "output_type": "stream",
          "name": "stdout",
          "text": [
            "Imports Successful\n"
          ]
        }
      ]
    },
    {
      "cell_type": "code",
      "source": [
        "import numpy as np\n",
        "from qiskit import QuantumCircuit\n",
        "\n",
        "def create_phase_rotation_gate(n):\n",
        "    \"\"\"\n",
        "    Create a controlled phase rotation gate for a given level n.\n",
        "\n",
        "    Parameters:\n",
        "        n (int): Determines the angle of the phase rotation.\n",
        "\n",
        "    Returns:\n",
        "        Gate: A controlled phase rotation gate.\n",
        "    \"\"\"\n",
        "    # Calculate the rotation angle\n",
        "    theta = 2 * np.pi / (2 ** n)\n",
        "\n",
        "    # Define the single-qubit phase rotation gate\n",
        "    phase_gate = QuantumCircuit(1, name=f'R_{n}')\n",
        "    phase_gate.rz(theta, 0)\n",
        "\n",
        "    # Convert to a gate and make it controlled\n",
        "    controlled_phase_gate = phase_gate.to_gate().control(1)\n",
        "    return controlled_phase_gate\n",
        "\n"
      ],
      "metadata": {
        "id": "UkIRDachGg7P"
      },
      "execution_count": 7,
      "outputs": []
    },
    {
      "cell_type": "markdown",
      "source": [
        "Implementing QFT"
      ],
      "metadata": {
        "id": "yU0eUm5hGlVw"
      }
    },
    {
      "cell_type": "code",
      "source": [
        "def quantum_fourier_transform(num_qubits):\n",
        "    \"\"\"\n",
        "    Create a Quantum Fourier Transform (QFT) circuit for a given number of qubits.\n",
        "\n",
        "    Parameters:\n",
        "        num_qubits (int): Number of qubits in the QFT circuit.\n",
        "\n",
        "    Returns:\n",
        "        QuantumCircuit: The QFT circuit.\n",
        "    \"\"\"\n",
        "    # Initialize the QFT circuit\n",
        "    qft_circuit = QuantumCircuit(num_qubits, name=\"QFT\")\n",
        "\n",
        "    # Apply the QFT algorithm\n",
        "    for target_qubit in range(num_qubits):\n",
        "        # Apply Hadamard gate to the target qubit\n",
        "        qft_circuit.h(target_qubit)\n",
        "\n",
        "        # Apply controlled phase rotation gates\n",
        "        for control_qubit in range(target_qubit + 1, num_qubits):\n",
        "            qft_circuit.append(\n",
        "                create_phase_rotation_gate(control_qubit - target_qubit),\n",
        "                [control_qubit, target_qubit]\n",
        "            )\n",
        "\n",
        "        # Add a barrier for clarity in the circuit diagram\n",
        "        qft_circuit.barrier()\n",
        "\n",
        "    # Swap qubits to reverse their order\n",
        "    for i in range(num_qubits // 2):\n",
        "        qft_circuit.swap(i, num_qubits - i - 1)\n",
        "\n",
        "    return qft_circuit\n",
        "\n",
        "# Example usage\n",
        "num_qubits = 5\n",
        "qft_circuit = quantum_fourier_transform(num_qubits)\n",
        "print(qft_circuit.draw())\n"
      ],
      "metadata": {
        "colab": {
          "base_uri": "https://localhost:8080/"
        },
        "id": "Ofr3aWZVGlAZ",
        "outputId": "afc32a21-29e8-4cc6-d933-ef59fbc5c857"
      },
      "execution_count": 8,
      "outputs": [
        {
          "output_type": "stream",
          "name": "stdout",
          "text": [
            "     ┌───┐┌─────┐┌─────┐┌─────┐┌─────┐ ░                            ░      »\n",
            "q_0: ┤ H ├┤ R_1 ├┤ R_2 ├┤ R_3 ├┤ R_4 ├─░────────────────────────────░──────»\n",
            "     └───┘└──┬──┘└──┬──┘└──┬──┘└──┬──┘ ░ ┌───┐┌─────┐┌─────┐┌─────┐ ░      »\n",
            "q_1: ────────■──────┼──────┼──────┼────░─┤ H ├┤ R_1 ├┤ R_2 ├┤ R_3 ├─░──────»\n",
            "                    │      │      │    ░ └───┘└──┬──┘└──┬──┘└──┬──┘ ░ ┌───┐»\n",
            "q_2: ───────────────■──────┼──────┼────░─────────■──────┼──────┼────░─┤ H ├»\n",
            "                           │      │    ░                │      │    ░ └───┘»\n",
            "q_3: ──────────────────────■──────┼────░────────────────■──────┼────░──────»\n",
            "                                  │    ░                       │    ░      »\n",
            "q_4: ─────────────────────────────■────░───────────────────────■────░──────»\n",
            "                                       ░                            ░      »\n",
            "«                    ░              ░       ░       \n",
            "«q_0: ───────────────░──────────────░───────░──X────\n",
            "«                    ░              ░       ░  │    \n",
            "«q_1: ───────────────░──────────────░───────░──┼──X─\n",
            "«     ┌─────┐┌─────┐ ░              ░       ░  │  │ \n",
            "«q_2: ┤ R_1 ├┤ R_2 ├─░──────────────░───────░──┼──┼─\n",
            "«     └──┬──┘└──┬──┘ ░ ┌───┐┌─────┐ ░       ░  │  │ \n",
            "«q_3: ───■──────┼────░─┤ H ├┤ R_1 ├─░───────░──┼──X─\n",
            "«               │    ░ └───┘└──┬──┘ ░ ┌───┐ ░  │    \n",
            "«q_4: ──────────■────░─────────■────░─┤ H ├─░──X────\n",
            "«                    ░              ░ └───┘ ░       \n"
          ]
        }
      ]
    },
    {
      "cell_type": "markdown",
      "source": [
        "Inverse QFT (QFT dagger)"
      ],
      "metadata": {
        "id": "yTA0l527HWFh"
      }
    },
    {
      "cell_type": "code",
      "source": [
        "import numpy as np\n",
        "from qiskit import QuantumCircuit\n",
        "\n",
        "def create_inverse_phase_rotation_gate(n):\n",
        "    \"\"\"\n",
        "    Create a controlled inverse phase rotation gate for a given level n.\n",
        "\n",
        "    Parameters:\n",
        "        n (int): Determines the angle of the phase rotation.\n",
        "\n",
        "    Returns:\n",
        "        Gate: A controlled inverse phase rotation gate.\n",
        "    \"\"\"\n",
        "    # Calculate the inverse rotation angle (negated)\n",
        "    theta = -2 * np.pi / (2 ** n)\n",
        "\n",
        "    # Define the single-qubit inverse phase rotation gate\n",
        "    inverse_phase_gate = QuantumCircuit(1, name=f'R_{n}^\\u2020')  # \\u2020 for dagger (†)\n",
        "    inverse_phase_gate.rz(theta, 0)\n",
        "\n",
        "    # Convert to a gate and make it controlled\n",
        "    controlled_inverse_phase_gate = inverse_phase_gate.to_gate().control(1)\n",
        "    return controlled_inverse_phase_gate\n",
        "\n"
      ],
      "metadata": {
        "id": "S4dxU9QqHb3h"
      },
      "execution_count": 9,
      "outputs": []
    },
    {
      "cell_type": "code",
      "source": [
        "\n",
        "def quantum_fourier_transform_inverse(num_qubits):\n",
        "    \"\"\"\n",
        "    Create an Inverse Quantum Fourier Transform (QFT†) circuit for a given number of qubits.\n",
        "\n",
        "    Parameters:\n",
        "        num_qubits (int): Number of qubits in the QFT† circuit.\n",
        "\n",
        "    Returns:\n",
        "        QuantumCircuit: The QFT† circuit.\n",
        "    \"\"\"\n",
        "    # Initialize the QFT† circuit\n",
        "    qft_inverse_circuit = QuantumCircuit(num_qubits, name=\"QFT†\")\n",
        "\n",
        "    # Reverse the qubit swap operations\n",
        "    for i in range(num_qubits // 2):\n",
        "        qft_inverse_circuit.swap(i, num_qubits - i - 1)\n",
        "\n",
        "    # Add a barrier for clarity in the circuit diagram\n",
        "    qft_inverse_circuit.barrier()\n",
        "\n",
        "    # Apply the inverse QFT algorithm\n",
        "    for target_qubit in reversed(range(num_qubits)):\n",
        "        # Apply controlled inverse phase rotation gates\n",
        "        for control_qubit in reversed(range(target_qubit + 1, num_qubits)):\n",
        "            qft_inverse_circuit.append(\n",
        "                create_inverse_phase_rotation_gate(control_qubit - target_qubit),\n",
        "                [control_qubit, target_qubit]\n",
        "            )\n",
        "\n",
        "        # Apply Hadamard gate to the target qubit\n",
        "        qft_inverse_circuit.h(target_qubit)\n",
        "\n",
        "        # Add a barrier for clarity in the circuit diagram\n",
        "        qft_inverse_circuit.barrier()\n",
        "\n",
        "    return qft_inverse_circuit\n",
        "\n",
        "# Example usage\n",
        "num_qubits = 4\n",
        "qft_inverse_circuit = quantum_fourier_transform_inverse(num_qubits)\n",
        "print(qft_inverse_circuit.draw())"
      ],
      "metadata": {
        "colab": {
          "base_uri": "https://localhost:8080/"
        },
        "id": "riZovfZmHioN",
        "outputId": "a810b175-0a5a-4dee-e437-a5f21e119ab3"
      },
      "execution_count": 10,
      "outputs": [
        {
          "output_type": "stream",
          "name": "stdout",
          "text": [
            "            ░       ░                ░                         ░ ┌───────┐»\n",
            "q_0: ─X─────░───────░────────────────░─────────────────────────░─┤ R_3^† ├»\n",
            "      │     ░       ░                ░ ┌───────┐┌───────┐┌───┐ ░ └───┬───┘»\n",
            "q_1: ─┼──X──░───────░────────────────░─┤ R_2^† ├┤ R_1^† ├┤ H ├─░─────┼────»\n",
            "      │  │  ░       ░ ┌───────┐┌───┐ ░ └───┬───┘└───┬───┘└───┘ ░     │    »\n",
            "q_2: ─┼──X──░───────░─┤ R_1^† ├┤ H ├─░─────┼────────■──────────░─────┼────»\n",
            "      │     ░ ┌───┐ ░ └───┬───┘└───┘ ░     │                   ░     │    »\n",
            "q_3: ─X─────░─┤ H ├─░─────■──────────░─────■───────────────────░─────■────»\n",
            "            ░ └───┘ ░                ░                         ░          »\n",
            "«     ┌───────┐┌───────┐┌───┐ ░ \n",
            "«q_0: ┤ R_2^† ├┤ R_1^† ├┤ H ├─░─\n",
            "«     └───┬───┘└───┬───┘└───┘ ░ \n",
            "«q_1: ────┼────────■──────────░─\n",
            "«         │                   ░ \n",
            "«q_2: ────■───────────────────░─\n",
            "«                             ░ \n",
            "«q_3: ────────────────────────░─\n",
            "«                             ░ \n"
          ]
        }
      ]
    },
    {
      "cell_type": "markdown",
      "source": [
        " Simple Implementation for QFT_inverse"
      ],
      "metadata": {
        "id": "pN95m7VCuoP-"
      }
    },
    {
      "cell_type": "code",
      "source": [
        "def qft_dagger(n):\n",
        "    \"\"\"n-qubit QFTdagger the first n qubits in circ\"\"\"\n",
        "    qc = QuantumCircuit(n)\n",
        "    # Don't forget the Swaps!\n",
        "    for qubit in range(n//2):\n",
        "        qc.swap(qubit, n-qubit-1)\n",
        "    for j in range(n):\n",
        "        for m in range(j):\n",
        "            qc.cp(-np.pi/float(2**(j-m)), m, j)\n",
        "        qc.h(j)\n",
        "    qc.name = \"QFT†\"\n",
        "    return qc"
      ],
      "metadata": {
        "id": "tjjjYZMturl-"
      },
      "execution_count": 11,
      "outputs": []
    },
    {
      "cell_type": "markdown",
      "source": [
        "$$ f(x) = a^x \\bmod{N}$$\n",
        "where $a$ and $N$ are positive integers, $a$ is less than $N$, and they have no common factors. The period, or order ($r$), is the smallest (non-zero) integer such that:\n",
        "\n",
        "$$a^r \\bmod N = 1 $$\n",
        "$$U|y\\rangle = |ay\\bmod N\\rangle $$\n",
        "\n",
        "To create $U^x$, we will simply repeat the circuit $x$ times.\n",
        " In the next section we will discuss a general method for creating these circuits efficiently. For all the below implementation of Shor's algo we will be using $N=15$.<br>\n",
        " The function `c_amod15` returns the controlled-U gate for `a`, repeated `power` times."
      ],
      "metadata": {
        "id": "jADQPYYWt39g"
      }
    },
    {
      "cell_type": "code",
      "source": [
        "def c_amod15(a, power):\n",
        "    \"\"\"Controlled multiplication by a mod 15\"\"\"\n",
        "    if a not in [2,4,7,8,11,13]:\n",
        "        raise ValueError(\"'a' must be 2,4,7,8,11 or 13\")\n",
        "    U = QuantumCircuit(4)\n",
        "    for iteration in range(power):\n",
        "        if a in [2,13]:\n",
        "            U.swap(2,3)\n",
        "            U.swap(1,2)\n",
        "            U.swap(0,1)\n",
        "        if a in [7,8]:\n",
        "            U.swap(0,1)\n",
        "            U.swap(1,2)\n",
        "            U.swap(2,3)\n",
        "        if a in [4, 11]:\n",
        "            U.swap(1,3)\n",
        "            U.swap(0,2)\n",
        "        if a in [7,11,13]:\n",
        "            for q in range(4):\n",
        "                U.x(q)\n",
        "    U = U.to_gate()\n",
        "    U.name = \"%i^%i mod 15\" % (a, power)\n",
        "    c_U = U.control()\n",
        "    return c_U"
      ],
      "metadata": {
        "id": "vCa6eVCFueDZ"
      },
      "execution_count": 12,
      "outputs": []
    },
    {
      "cell_type": "code",
      "source": [
        "result123 = qft_dagger(4)\n",
        "result123.draw(fold=-1)"
      ],
      "metadata": {
        "colab": {
          "base_uri": "https://localhost:8080/",
          "height": 156
        },
        "id": "79LvAFwjzWHn",
        "outputId": "6b5606e0-fbe0-40ed-f130-18a0b698eeb8"
      },
      "execution_count": 13,
      "outputs": [
        {
          "output_type": "execute_result",
          "data": {
            "text/plain": [
              "        ┌───┐                                                                           \n",
              "q_0: ─X─┤ H ├─■──────────────■───────────────────■──────────────────────────────────────\n",
              "      │ └───┘ │P(-π/2) ┌───┐ │                   │                                      \n",
              "q_1: ─┼───X───■────────┤ H ├─┼─────────■─────────┼──────────────■───────────────────────\n",
              "      │   │            └───┘ │P(-π/4)  │P(-π/2)  │        ┌───┐ │                       \n",
              "q_2: ─┼───X──────────────────■─────────■─────────┼────────┤ H ├─┼─────────■─────────────\n",
              "      │                                          │P(-π/8) └───┘ │P(-π/4)  │P(-π/2) ┌───┐\n",
              "q_3: ─X──────────────────────────────────────────■──────────────■─────────■────────┤ H ├\n",
              "                                                                                   └───┘"
            ],
            "text/html": [
              "<pre style=\"word-wrap: normal;white-space: pre;background: #fff0;line-height: 1.1;font-family: &quot;Courier New&quot;,Courier,monospace\">        ┌───┐                                                                           \n",
              "q_0: ─X─┤ H ├─■──────────────■───────────────────■──────────────────────────────────────\n",
              "      │ └───┘ │P(-π/2) ┌───┐ │                   │                                      \n",
              "q_1: ─┼───X───■────────┤ H ├─┼─────────■─────────┼──────────────■───────────────────────\n",
              "      │   │            └───┘ │P(-π/4)  │P(-π/2)  │        ┌───┐ │                       \n",
              "q_2: ─┼───X──────────────────■─────────■─────────┼────────┤ H ├─┼─────────■─────────────\n",
              "      │                                          │P(-π/8) └───┘ │P(-π/4)  │P(-π/2) ┌───┐\n",
              "q_3: ─X──────────────────────────────────────────■──────────────■─────────■────────┤ H ├\n",
              "                                                                                   └───┘</pre>"
            ]
          },
          "metadata": {},
          "execution_count": 13
        }
      ]
    },
    {
      "cell_type": "markdown",
      "source": [
        "shor's algo"
      ],
      "metadata": {
        "id": "FPQo3o_yvBuT"
      }
    },
    {
      "cell_type": "code",
      "source": [
        "N = 15\n",
        "a=7 #other possible values: 2, 4, 7, 8, 11, 13"
      ],
      "metadata": {
        "id": "pDoaN726viq0"
      },
      "execution_count": 14,
      "outputs": []
    },
    {
      "cell_type": "markdown",
      "source": [
        "Next we quickly check it isn't already a non-trivial factor of $N$:"
      ],
      "metadata": {
        "id": "4DP-uK8hvxZQ"
      }
    },
    {
      "cell_type": "code",
      "source": [
        "from math import gcd # greatest common divisor\n",
        "gcd(a, N)"
      ],
      "metadata": {
        "colab": {
          "base_uri": "https://localhost:8080/"
        },
        "id": "4UeP6QpPvxF9",
        "outputId": "c819f6b4-4387-497e-cd86-ffbd5268ae97"
      },
      "execution_count": 15,
      "outputs": [
        {
          "output_type": "execute_result",
          "data": {
            "text/plain": [
              "1"
            ]
          },
          "metadata": {},
          "execution_count": 15
        }
      ]
    },
    {
      "cell_type": "markdown",
      "source": [
        "Simple Implementation of Quantum Phase Estimation for order finding"
      ],
      "metadata": {
        "id": "6Z2Qg9byIAw1"
      }
    },
    {
      "cell_type": "code",
      "source": [
        "def qpe_amod15(a):\n",
        "    n_count = 8\n",
        "    qc = QuantumCircuit(4+n_count, n_count)\n",
        "    for q in range(n_count):\n",
        "        qc.h(q)     # Initialize counting qubits in state |+>\n",
        "    qc.x(3+n_count) # And auxiliary register in state |1>\n",
        "    for q in range(n_count): # Do controlled-U operations\n",
        "        qc.append(c_amod15(a, 2**q),\n",
        "                 [q] + [i+n_count for i in range(4)])\n",
        "    qc.append(qft_dagger(n_count), range(n_count)) # Do inverse-QFT\n",
        "    qc.measure(range(n_count), range(n_count))\n",
        "    # Simulate Results\n",
        "    # aer_sim = Aer.get_backend('aer_simulator')\n",
        "    aer_sim = AerSimulator()\n",
        "    # Setting memory=True below allows us to see a list of each sequential reading\n",
        "    t_qc = transpile(qc, aer_sim)\n",
        "    # qobj = assemble(t_qc, shots=1)\n",
        "    result = aer_sim.run(t_qc, memory=True).result()\n",
        "    readings = result.get_memory()\n",
        "    print(\"Register Reading: \" + readings[0])\n",
        "    phase = int(readings[0],2)/(2**n_count)\n",
        "    print(\"Corresponding Phase: %f\" % phase)\n",
        "    return phase"
      ],
      "metadata": {
        "id": "AO5pUM5Tv6XZ"
      },
      "execution_count": 16,
      "outputs": []
    },
    {
      "cell_type": "markdown",
      "source": [
        "From this phase, we can easily find a guess for $r$:"
      ],
      "metadata": {
        "id": "UNlFP_7YwLT5"
      }
    },
    {
      "cell_type": "code",
      "source": [
        "phase = qpe_amod15(a) # Phase = s/r\n",
        "Fraction(phase).limit_denominator(15) # Denominator should tell us r"
      ],
      "metadata": {
        "colab": {
          "base_uri": "https://localhost:8080/"
        },
        "id": "AOe4BtyJwL3X",
        "outputId": "fbf2430f-0800-41fe-f744-9ace2fd2ab94"
      },
      "execution_count": 17,
      "outputs": [
        {
          "output_type": "stream",
          "name": "stdout",
          "text": [
            "Register Reading: 11000000\n",
            "Corresponding Phase: 0.750000\n"
          ]
        },
        {
          "output_type": "execute_result",
          "data": {
            "text/plain": [
              "Fraction(3, 4)"
            ]
          },
          "metadata": {},
          "execution_count": 17
        }
      ]
    },
    {
      "cell_type": "code",
      "source": [
        "frac = Fraction(phase).limit_denominator(15)\n",
        "s, r = frac.numerator, frac.denominator\n",
        "print(r)"
      ],
      "metadata": {
        "colab": {
          "base_uri": "https://localhost:8080/"
        },
        "id": "z4M30QOFwP_m",
        "outputId": "0ec215ee-60c2-438d-c3d4-443fcd0bf4c9"
      },
      "execution_count": 18,
      "outputs": [
        {
          "output_type": "stream",
          "name": "stdout",
          "text": [
            "4\n"
          ]
        }
      ]
    },
    {
      "cell_type": "markdown",
      "source": [
        "Now we have $r$, we might be able to use this to find a factor of $N$. Since:\n",
        "\n",
        "$$a^r \\bmod N = 1 $$\n",
        "\n",
        "then:\n",
        "\n",
        "$$(a^r - 1) \\bmod N = 0 $$\n",
        "\n",
        "which means $N$ must divide $a^r-1$. And if $r$ is also even, then we can write:\n",
        "\n",
        "$$a^r -1 = (a^{r/2}-1)(a^{r/2}+1)$$\n",
        "\n",
        "(if $r$ is not even, we cannot go further and must try again with a different value for $a$). There is then a high probability that the greatest common divisor of $N$ and either $a^{r/2}-1$, or $a^{r/2}+1$ is a proper factor of $N$ [2]:"
      ],
      "metadata": {
        "id": "Z-sCguuuwVNk"
      }
    },
    {
      "cell_type": "code",
      "source": [
        "guesses = [gcd(a**(r//2)-1, N), gcd(a**(r//2)+1, N)]\n",
        "print(guesses)"
      ],
      "metadata": {
        "colab": {
          "base_uri": "https://localhost:8080/"
        },
        "id": "5DX6PMZjwU5t",
        "outputId": "4674f4bf-9a82-40d0-abdd-fdcf1a41ad58"
      },
      "execution_count": 19,
      "outputs": [
        {
          "output_type": "stream",
          "name": "stdout",
          "text": [
            "[3, 5]\n"
          ]
        }
      ]
    },
    {
      "cell_type": "markdown",
      "source": [
        "The cell below repeats the algorithm until at least one factor of 15 is found. Re-running the cell with different 'a' values(2,4,7,8,11,13) a few times shows us how the algo behaves."
      ],
      "metadata": {
        "id": "rv1cpiJQxCLX"
      }
    },
    {
      "cell_type": "code",
      "execution_count": 22,
      "metadata": {
        "colab": {
          "base_uri": "https://localhost:8080/"
        },
        "id": "l4qb_kBdmaeK",
        "outputId": "2a81a74b-d466-4c83-d24e-738e779b72cd"
      },
      "outputs": [
        {
          "output_type": "stream",
          "name": "stdout",
          "text": [
            "\n",
            "Attempt 1:\n",
            "Register Reading: 01000000\n",
            "Corresponding Phase: 0.250000\n",
            "Result: r = 4\n",
            "Guessed Factors: 3 and 5\n",
            "*** Non-trivial factor found: 3 ***\n",
            "*** Non-trivial factor found: 5 ***\n"
          ]
        }
      ],
      "source": [
        "a = 13\n",
        "factor_found = False\n",
        "attempt = 0\n",
        "while not factor_found:\n",
        "    attempt += 1\n",
        "    print(\"\\nAttempt %i:\" % attempt)\n",
        "    phase = qpe_amod15(a) # Phase = s/r\n",
        "    frac = Fraction(phase).limit_denominator(N) # Denominator should (hopefully!) tell us r\n",
        "    r = frac.denominator\n",
        "    print(\"Result: r = %i\" % r)\n",
        "    if phase != 0:\n",
        "        # Guesses for factors are gcd(x^{r/2} ±1 , 15)\n",
        "        guesses = [gcd(a**(r//2)-1, N), gcd(a**(r//2)+1, N)]\n",
        "        print(\"Guessed Factors: %i and %i\" % (guesses[0], guesses[1]))\n",
        "        for guess in guesses:\n",
        "            if guess not in [1,N] and (N % guess) == 0: # Check to see if guess is a factor\n",
        "                print(\"*** Non-trivial factor found: %i ***\" % guess)\n",
        "                factor_found = True"
      ]
    }
  ]
}